{
 "cells": [
  {
   "cell_type": "code",
   "execution_count": 1,
   "metadata": {},
   "outputs": [],
   "source": [
    "import wrestlr\n",
    "\n",
    "%load_ext wrestlr"
   ]
  },
  {
   "cell_type": "code",
   "execution_count": 2,
   "metadata": {},
   "outputs": [
    {
     "data": {
      "text/plain": [
       "█─>>\n",
       "├─_\n",
       "└─█─+\n",
       "  ├─_\n",
       "  └─_"
      ]
     },
     "execution_count": 2,
     "metadata": {},
     "output_type": "execute_result"
    }
   ],
   "source": [
    "from siuba.siu import _, strip_symbolic\n",
    "\n",
    "_ >> _ + _"
   ]
  },
  {
   "cell_type": "markdown",
   "metadata": {},
   "source": [
    "## Basic"
   ]
  },
  {
   "cell_type": "markdown",
   "metadata": {},
   "source": [
    "### Atomic Types"
   ]
  },
  {
   "cell_type": "code",
   "execution_count": 3,
   "metadata": {},
   "outputs": [
    {
     "name": "stdout",
     "output_type": "stream",
     "text": [
      "'a'\n",
      "\n",
      "1\n",
      "\n",
      "1.2\n",
      "\n",
      "1j\n",
      "\n",
      "True\n"
     ]
    }
   ],
   "source": [
    "%%wrestlr -p -m siuba\n",
    "\n",
    "'a'    # Str\n",
    "\n",
    "1      # Int\n",
    "\n",
    "1.2    # Dbl\n",
    "\n",
    "1i     # Complex (TODO)\n",
    "\n",
    "TRUE   # Bool"
   ]
  },
  {
   "cell_type": "code",
   "execution_count": 4,
   "metadata": {},
   "outputs": [
    {
     "name": "stdout",
     "output_type": "stream",
     "text": [
      "inf\n",
      "\n",
      "nan\n",
      "\n",
      "<NA>\n",
      "\n",
      "None\n"
     ]
    }
   ],
   "source": [
    "%%wrestlr -p\n",
    "\n",
    "# TODO!\n",
    "Inf\n",
    "\n",
    "NaN\n",
    "\n",
    "NA\n",
    "\n",
    "NULL"
   ]
  },
  {
   "cell_type": "markdown",
   "metadata": {},
   "source": [
    "### Syntax"
   ]
  },
  {
   "cell_type": "code",
   "execution_count": 5,
   "metadata": {},
   "outputs": [
    {
     "name": "stdout",
     "output_type": "stream",
     "text": [
      "x = 1\n",
      "\n",
      "range(1,3)\n",
      "\n",
      "mtcars.hp\n",
      "\n",
      "mtcars['hp']\n",
      "\n",
      "mtcars['hp']\n"
     ]
    }
   ],
   "source": [
    "%%wrestlr -p\n",
    "\n",
    "x <- 1\n",
    "\n",
    "# TODO: map correctly to range for simple cases\n",
    "1:3\n",
    "\n",
    "mtcars$hp\n",
    "\n",
    "# Note: treats like \"[[\"\n",
    "mtcars[\"hp\"]\n",
    "\n",
    "mtcars[[\"hp\"]]"
   ]
  },
  {
   "cell_type": "code",
   "execution_count": 6,
   "metadata": {},
   "outputs": [
    {
     "name": "stdout",
     "output_type": "stream",
     "text": [
      "a.b['.c']\n",
      "\n",
      "a['b c']\n",
      "\n",
      "'z'\n"
     ]
    }
   ],
   "source": [
    "%%wrestlr -p -m siuba\n",
    "\n",
    "a$b$.c\n",
    "\n",
    "a$\"b c\"\n",
    "\n",
    "\"z\""
   ]
  },
  {
   "cell_type": "code",
   "execution_count": 7,
   "metadata": {},
   "outputs": [
    {
     "name": "stdout",
     "output_type": "stream",
     "text": [
      "mtcars.hp['z.a']\n"
     ]
    }
   ],
   "source": [
    "%%wrestlr -p -m siuba\n",
    "\n",
    "mtcars$hp$\"z.a\""
   ]
  },
  {
   "cell_type": "markdown",
   "metadata": {},
   "source": [
    "### Names\n",
    "\n",
    "Outside of NSE, periods are left untransformed right now, but can be handled in siuba.\n",
    "\n",
    "Note that invalid python names are wrapped with backticks (eg \\`x.bad\\`). This breaks black formatting (an option in wrestlr), so I am thinking about alternatives!"
   ]
  },
  {
   "cell_type": "code",
   "execution_count": 8,
   "metadata": {},
   "outputs": [
    {
     "name": "stdout",
     "output_type": "stream",
     "text": [
      "x\n",
      "\n",
      "`.x`\n",
      "\n",
      "`.`\n",
      "\n",
      "`is.na`\n",
      "\n",
      "x\n",
      "\n",
      "`..NSE..`(x)\n"
     ]
    }
   ],
   "source": [
    "%%wrestlr -p\n",
    "\n",
    "x\n",
    "\n",
    ".x\n",
    "\n",
    ".\n",
    "\n",
    "is.na\n",
    "\n",
    "`x`\n",
    "\n",
    "..NSE..(`x`)\n"
   ]
  },
  {
   "cell_type": "markdown",
   "metadata": {},
   "source": [
    "### Names and getters\n",
    "\n",
    "wrestlr treats `$` like property access, and `[[` like getting an item.\n",
    "\n",
    "When it a name wouldn't work with `$`, like in the case of ``a$`a.bad name` ``, wrestlr switches to treating it like `[[`."
   ]
  },
  {
   "cell_type": "code",
   "execution_count": 9,
   "metadata": {},
   "outputs": [
    {
     "name": "stdout",
     "output_type": "stream",
     "text": [
      "a['x.bad']\n",
      "\n",
      "a['x.real bad']\n",
      "\n",
      "a.x_good\n",
      "\n",
      "a[`x.bad`]\n",
      "\n",
      "a[`x.real bad`]\n",
      "\n",
      "a[x_good]\n"
     ]
    }
   ],
   "source": [
    "%%wrestlr -p\n",
    "\n",
    "a$`x.bad`\n",
    "\n",
    "a$`x.real bad`\n",
    "\n",
    "a$`x_good`\n",
    "\n",
    "# backticks in R are a name, not a string\n",
    "\n",
    "a[[`x.bad`]]\n",
    "\n",
    "a[[`x.real bad`]]\n",
    "\n",
    "a[[`x_good`]]\n",
    "\n"
   ]
  },
  {
   "cell_type": "markdown",
   "metadata": {},
   "source": [
    "### Function calls"
   ]
  },
  {
   "cell_type": "code",
   "execution_count": 10,
   "metadata": {},
   "outputs": [
    {
     "name": "stdout",
     "output_type": "stream",
     "text": [
      "f(x)\n",
      "\n",
      "f(x,na.rm = True)\n",
      "\n",
      "f('...')\n",
      "\n",
      "f()\n",
      "\n",
      "`is.na`(c(1))\n",
      "\n",
      "c(1,2,3)\n"
     ]
    }
   ],
   "source": [
    "%%wrestlr -p\n",
    "\n",
    "f(x)\n",
    "\n",
    "f(x, na.rm = TRUE)\n",
    "\n",
    "f(...)\n",
    "\n",
    "f()\n",
    "\n",
    "is.na(c(1))\n",
    "\n",
    "c(1, 2, 3)"
   ]
  },
  {
   "cell_type": "markdown",
   "metadata": {},
   "source": [
    "### Pipes"
   ]
  },
  {
   "cell_type": "code",
   "execution_count": 11,
   "metadata": {},
   "outputs": [
    {
     "name": "stdout",
     "output_type": "stream",
     "text": [
      "mtcars >> f(hp > 100)\n",
      "\n",
      "mtcars >> f(avg = mean(hp))\n"
     ]
    }
   ],
   "source": [
    "%%wrestlr -p\n",
    "\n",
    "mtcars %>% f(hp > 100)\n",
    "\n",
    "mtcars %>% f(avg = mean(hp))"
   ]
  },
  {
   "cell_type": "code",
   "execution_count": 12,
   "metadata": {},
   "outputs": [
    {
     "name": "stdout",
     "output_type": "stream",
     "text": [
      "mtcars >> f(cyl) >> f(avg = mean(hp))\n"
     ]
    }
   ],
   "source": [
    "%%wrestlr -p\n",
    "\n",
    "mtcars %>% f(cyl) %>% f(avg = mean(hp))"
   ]
  },
  {
   "cell_type": "code",
   "execution_count": 13,
   "metadata": {},
   "outputs": [
    {
     "name": "stdout",
     "output_type": "stream",
     "text": [
      "result = (mtcars >> f(hp > 100))\n"
     ]
    }
   ],
   "source": [
    "%%wrestlr -p\n",
    "\n",
    "result <- mtcars %>% f(hp > 100)"
   ]
  },
  {
   "cell_type": "code",
   "execution_count": 14,
   "metadata": {},
   "outputs": [
    {
     "name": "stdout",
     "output_type": "stream",
     "text": [
      "result = (mtcars >> a() >> b() >> c())\n"
     ]
    }
   ],
   "source": [
    "%%wrestlr -p\n",
    "result <- mtcars %>% a() %>% b() %>% c()"
   ]
  },
  {
   "cell_type": "markdown",
   "metadata": {},
   "source": [
    "## NSE verbs"
   ]
  },
  {
   "cell_type": "markdown",
   "metadata": {},
   "source": [
    "### Escaping bare columns"
   ]
  },
  {
   "cell_type": "code",
   "execution_count": 15,
   "metadata": {},
   "outputs": [
    {
     "name": "stdout",
     "output_type": "stream",
     "text": [
      "f_standard(data,hp)\n",
      "\n",
      "`..NSE..`(data,_.hp)\n"
     ]
    }
   ],
   "source": [
    "%%wrestlr -p\n",
    "\n",
    "f_standard(data, hp)\n",
    "\n",
    "# Use ..NSE.. for testing\n",
    "..NSE..(data, hp)"
   ]
  },
  {
   "cell_type": "code",
   "execution_count": 16,
   "metadata": {},
   "outputs": [
    {
     "name": "stdout",
     "output_type": "stream",
     "text": [
      "filter(mtcars,_.hp > 100)\n",
      "\n",
      "mtcars >> filter(_.hp > 100)\n",
      "\n",
      "mutate(avg = mean(_.hp))\n",
      "\n",
      "mutate(avg = mean(_.hp / _.cyl))\n",
      "\n",
      "mtcars >> group_by(_.cyl) >> summarize(avg = mean(_.hp))\n"
     ]
    }
   ],
   "source": [
    "%%wrestlr -p\n",
    "\n",
    "# TODO: should not escape mtcars\n",
    "filter(mtcars, hp > 100)\n",
    "\n",
    "mtcars %>% filter(hp > 100)\n",
    "\n",
    "mutate(avg = mean(hp))\n",
    "\n",
    "mutate(avg = mean(hp / cyl))\n",
    "\n",
    "mtcars %>% group_by(cyl) %>% summarize(avg = mean(hp))"
   ]
  },
  {
   "cell_type": "code",
   "execution_count": 17,
   "metadata": {},
   "outputs": [
    {
     "name": "stdout",
     "output_type": "stream",
     "text": [
      "result = (mtcars >> group_by(_.cyl) >> summarize(avg = mean(_.hp)))\n"
     ]
    }
   ],
   "source": [
    "%%wrestlr -p\n",
    "result <- mtcars %>%\n",
    "    group_by(cyl) %>%\n",
    "    summarize(avg = mean(hp))"
   ]
  },
  {
   "cell_type": "code",
   "execution_count": 18,
   "metadata": {},
   "outputs": [],
   "source": [
    "from siuba.data import mtcars\n",
    "from siuba import group_by, summarize, _\n",
    "result = (mtcars >> group_by(_.cyl) >> summarize(avg = _.hp.mean()))"
   ]
  },
  {
   "cell_type": "markdown",
   "metadata": {},
   "source": [
    "### Function calls to methods\n",
    "\n",
    "By default, function calls are not displayed as methods, except for the test call, `NSE_method`."
   ]
  },
  {
   "cell_type": "code",
   "execution_count": 19,
   "metadata": {},
   "outputs": [
    {
     "name": "stdout",
     "output_type": "stream",
     "text": [
      "mtcars >> mutate(avg = mean(_.hp / _.cyl))\n",
      "\n",
      "mtcars >> mutate(avg = _.hp.NSE_method(_.cyl) + _.mpg)\n"
     ]
    }
   ],
   "source": [
    "%%wrestlr -p\n",
    "\n",
    "mtcars %>% mutate(avg = mean(hp / cyl))\n",
    "\n",
    "mtcars %>% mutate(avg = NSE_method(hp, cyl) + mpg)"
   ]
  },
  {
   "cell_type": "markdown",
   "metadata": {},
   "source": [
    "You can calls to convert by configuring the Transformer."
   ]
  },
  {
   "cell_type": "code",
   "execution_count": 20,
   "metadata": {},
   "outputs": [],
   "source": [
    "from wrestlr.transformers import TransformExpr\n",
    "METHODS = {\n",
    "    \"mean\": \"mean\",\n",
    "    \"is.na\": \"isna\"\n",
    "}\n",
    "\n",
    "custom = TransformExpr(method_calls = METHODS)"
   ]
  },
  {
   "cell_type": "markdown",
   "metadata": {},
   "source": [
    "Here it is without the transformer."
   ]
  },
  {
   "cell_type": "code",
   "execution_count": 21,
   "metadata": {},
   "outputs": [
    {
     "name": "stdout",
     "output_type": "stream",
     "text": [
      "mtcars >> mutate(`is.na`(_.hp))\n"
     ]
    }
   ],
   "source": [
    "%%wrestlr -p\n",
    "\n",
    "mtcars %>% mutate(is.na(hp))"
   ]
  },
  {
   "cell_type": "markdown",
   "metadata": {},
   "source": [
    "And here it is with!"
   ]
  },
  {
   "cell_type": "code",
   "execution_count": 22,
   "metadata": {},
   "outputs": [
    {
     "name": "stdout",
     "output_type": "stream",
     "text": [
      "mtcars >> mutate(_.hp.isna())\n"
     ]
    }
   ],
   "source": [
    "%%wrestlr -p -t custom\n",
    "\n",
    "mtcars %>% mutate(is.na(hp))"
   ]
  },
  {
   "cell_type": "markdown",
   "metadata": {},
   "source": [
    "## Executing\n",
    "\n",
    "Code can be executed with the `-e` flag"
   ]
  },
  {
   "cell_type": "code",
   "execution_count": 26,
   "metadata": {},
   "outputs": [],
   "source": [
    "from siuba.data import mtcars\n",
    "from siuba import _, mutate, head"
   ]
  },
  {
   "cell_type": "code",
   "execution_count": 27,
   "metadata": {},
   "outputs": [
    {
     "name": "stdout",
     "output_type": "stream",
     "text": [
      "mtcars >> mutate(res = _.hp + 2) >> head()\n"
     ]
    },
    {
     "data": {
      "text/html": [
       "<div>\n",
       "<style scoped>\n",
       "    .dataframe tbody tr th:only-of-type {\n",
       "        vertical-align: middle;\n",
       "    }\n",
       "\n",
       "    .dataframe tbody tr th {\n",
       "        vertical-align: top;\n",
       "    }\n",
       "\n",
       "    .dataframe thead th {\n",
       "        text-align: right;\n",
       "    }\n",
       "</style>\n",
       "<table border=\"1\" class=\"dataframe\">\n",
       "  <thead>\n",
       "    <tr style=\"text-align: right;\">\n",
       "      <th></th>\n",
       "      <th>mpg</th>\n",
       "      <th>cyl</th>\n",
       "      <th>disp</th>\n",
       "      <th>hp</th>\n",
       "      <th>drat</th>\n",
       "      <th>wt</th>\n",
       "      <th>qsec</th>\n",
       "      <th>vs</th>\n",
       "      <th>am</th>\n",
       "      <th>gear</th>\n",
       "      <th>carb</th>\n",
       "      <th>res</th>\n",
       "    </tr>\n",
       "  </thead>\n",
       "  <tbody>\n",
       "    <tr>\n",
       "      <th>0</th>\n",
       "      <td>21.0</td>\n",
       "      <td>6</td>\n",
       "      <td>160.0</td>\n",
       "      <td>110</td>\n",
       "      <td>3.90</td>\n",
       "      <td>2.620</td>\n",
       "      <td>16.46</td>\n",
       "      <td>0</td>\n",
       "      <td>1</td>\n",
       "      <td>4</td>\n",
       "      <td>4</td>\n",
       "      <td>112</td>\n",
       "    </tr>\n",
       "    <tr>\n",
       "      <th>1</th>\n",
       "      <td>21.0</td>\n",
       "      <td>6</td>\n",
       "      <td>160.0</td>\n",
       "      <td>110</td>\n",
       "      <td>3.90</td>\n",
       "      <td>2.875</td>\n",
       "      <td>17.02</td>\n",
       "      <td>0</td>\n",
       "      <td>1</td>\n",
       "      <td>4</td>\n",
       "      <td>4</td>\n",
       "      <td>112</td>\n",
       "    </tr>\n",
       "    <tr>\n",
       "      <th>2</th>\n",
       "      <td>22.8</td>\n",
       "      <td>4</td>\n",
       "      <td>108.0</td>\n",
       "      <td>93</td>\n",
       "      <td>3.85</td>\n",
       "      <td>2.320</td>\n",
       "      <td>18.61</td>\n",
       "      <td>1</td>\n",
       "      <td>1</td>\n",
       "      <td>4</td>\n",
       "      <td>1</td>\n",
       "      <td>95</td>\n",
       "    </tr>\n",
       "    <tr>\n",
       "      <th>3</th>\n",
       "      <td>21.4</td>\n",
       "      <td>6</td>\n",
       "      <td>258.0</td>\n",
       "      <td>110</td>\n",
       "      <td>3.08</td>\n",
       "      <td>3.215</td>\n",
       "      <td>19.44</td>\n",
       "      <td>1</td>\n",
       "      <td>0</td>\n",
       "      <td>3</td>\n",
       "      <td>1</td>\n",
       "      <td>112</td>\n",
       "    </tr>\n",
       "    <tr>\n",
       "      <th>4</th>\n",
       "      <td>18.7</td>\n",
       "      <td>8</td>\n",
       "      <td>360.0</td>\n",
       "      <td>175</td>\n",
       "      <td>3.15</td>\n",
       "      <td>3.440</td>\n",
       "      <td>17.02</td>\n",
       "      <td>0</td>\n",
       "      <td>0</td>\n",
       "      <td>3</td>\n",
       "      <td>2</td>\n",
       "      <td>177</td>\n",
       "    </tr>\n",
       "  </tbody>\n",
       "</table>\n",
       "</div>"
      ],
      "text/plain": [
       "    mpg  cyl   disp   hp  drat     wt   qsec  vs  am  gear  carb  res\n",
       "0  21.0    6  160.0  110  3.90  2.620  16.46   0   1     4     4  112\n",
       "1  21.0    6  160.0  110  3.90  2.875  17.02   0   1     4     4  112\n",
       "2  22.8    4  108.0   93  3.85  2.320  18.61   1   1     4     1   95\n",
       "3  21.4    6  258.0  110  3.08  3.215  19.44   1   0     3     1  112\n",
       "4  18.7    8  360.0  175  3.15  3.440  17.02   0   0     3     2  177"
      ]
     },
     "execution_count": 27,
     "metadata": {},
     "output_type": "execute_result"
    }
   ],
   "source": [
    "%%wrestlr -p -e\n",
    "mtcars %>% mutate(res = hp + 2) %>% head()"
   ]
  },
  {
   "cell_type": "markdown",
   "metadata": {},
   "source": [
    "You can specify a custom transformer, to handle converting function calls to methods."
   ]
  },
  {
   "cell_type": "code",
   "execution_count": 31,
   "metadata": {},
   "outputs": [],
   "source": [
    "from wrestlr.transformers import TransformExpr\n",
    "\n",
    "my_transformer = TransformExpr(method_calls = {\"mean\": \"mean\"})"
   ]
  },
  {
   "cell_type": "code",
   "execution_count": 34,
   "metadata": {},
   "outputs": [
    {
     "name": "stdout",
     "output_type": "stream",
     "text": [
      "mtcars >> mutate(res = _.hp.mean() + 2) >> head()\n"
     ]
    },
    {
     "data": {
      "text/html": [
       "<div>\n",
       "<style scoped>\n",
       "    .dataframe tbody tr th:only-of-type {\n",
       "        vertical-align: middle;\n",
       "    }\n",
       "\n",
       "    .dataframe tbody tr th {\n",
       "        vertical-align: top;\n",
       "    }\n",
       "\n",
       "    .dataframe thead th {\n",
       "        text-align: right;\n",
       "    }\n",
       "</style>\n",
       "<table border=\"1\" class=\"dataframe\">\n",
       "  <thead>\n",
       "    <tr style=\"text-align: right;\">\n",
       "      <th></th>\n",
       "      <th>mpg</th>\n",
       "      <th>cyl</th>\n",
       "      <th>disp</th>\n",
       "      <th>hp</th>\n",
       "      <th>drat</th>\n",
       "      <th>wt</th>\n",
       "      <th>qsec</th>\n",
       "      <th>vs</th>\n",
       "      <th>am</th>\n",
       "      <th>gear</th>\n",
       "      <th>carb</th>\n",
       "      <th>res</th>\n",
       "    </tr>\n",
       "  </thead>\n",
       "  <tbody>\n",
       "    <tr>\n",
       "      <th>0</th>\n",
       "      <td>21.0</td>\n",
       "      <td>6</td>\n",
       "      <td>160.0</td>\n",
       "      <td>110</td>\n",
       "      <td>3.90</td>\n",
       "      <td>2.620</td>\n",
       "      <td>16.46</td>\n",
       "      <td>0</td>\n",
       "      <td>1</td>\n",
       "      <td>4</td>\n",
       "      <td>4</td>\n",
       "      <td>148.6875</td>\n",
       "    </tr>\n",
       "    <tr>\n",
       "      <th>1</th>\n",
       "      <td>21.0</td>\n",
       "      <td>6</td>\n",
       "      <td>160.0</td>\n",
       "      <td>110</td>\n",
       "      <td>3.90</td>\n",
       "      <td>2.875</td>\n",
       "      <td>17.02</td>\n",
       "      <td>0</td>\n",
       "      <td>1</td>\n",
       "      <td>4</td>\n",
       "      <td>4</td>\n",
       "      <td>148.6875</td>\n",
       "    </tr>\n",
       "    <tr>\n",
       "      <th>2</th>\n",
       "      <td>22.8</td>\n",
       "      <td>4</td>\n",
       "      <td>108.0</td>\n",
       "      <td>93</td>\n",
       "      <td>3.85</td>\n",
       "      <td>2.320</td>\n",
       "      <td>18.61</td>\n",
       "      <td>1</td>\n",
       "      <td>1</td>\n",
       "      <td>4</td>\n",
       "      <td>1</td>\n",
       "      <td>148.6875</td>\n",
       "    </tr>\n",
       "    <tr>\n",
       "      <th>3</th>\n",
       "      <td>21.4</td>\n",
       "      <td>6</td>\n",
       "      <td>258.0</td>\n",
       "      <td>110</td>\n",
       "      <td>3.08</td>\n",
       "      <td>3.215</td>\n",
       "      <td>19.44</td>\n",
       "      <td>1</td>\n",
       "      <td>0</td>\n",
       "      <td>3</td>\n",
       "      <td>1</td>\n",
       "      <td>148.6875</td>\n",
       "    </tr>\n",
       "    <tr>\n",
       "      <th>4</th>\n",
       "      <td>18.7</td>\n",
       "      <td>8</td>\n",
       "      <td>360.0</td>\n",
       "      <td>175</td>\n",
       "      <td>3.15</td>\n",
       "      <td>3.440</td>\n",
       "      <td>17.02</td>\n",
       "      <td>0</td>\n",
       "      <td>0</td>\n",
       "      <td>3</td>\n",
       "      <td>2</td>\n",
       "      <td>148.6875</td>\n",
       "    </tr>\n",
       "  </tbody>\n",
       "</table>\n",
       "</div>"
      ],
      "text/plain": [
       "    mpg  cyl   disp   hp  drat     wt   qsec  vs  am  gear  carb       res\n",
       "0  21.0    6  160.0  110  3.90  2.620  16.46   0   1     4     4  148.6875\n",
       "1  21.0    6  160.0  110  3.90  2.875  17.02   0   1     4     4  148.6875\n",
       "2  22.8    4  108.0   93  3.85  2.320  18.61   1   1     4     1  148.6875\n",
       "3  21.4    6  258.0  110  3.08  3.215  19.44   1   0     3     1  148.6875\n",
       "4  18.7    8  360.0  175  3.15  3.440  17.02   0   0     3     2  148.6875"
      ]
     },
     "execution_count": 34,
     "metadata": {},
     "output_type": "execute_result"
    }
   ],
   "source": [
    "%%wrestlr -p -e -t my_transformer\n",
    "mtcars %>% mutate(res = mean(hp) + 2) %>% head()"
   ]
  },
  {
   "cell_type": "markdown",
   "metadata": {},
   "source": [
    "Though, note that general handling of function arguments, like `na.rm=True` is not implemented."
   ]
  },
  {
   "cell_type": "code",
   "execution_count": 35,
   "metadata": {},
   "outputs": [
    {
     "name": "stdout",
     "output_type": "stream",
     "text": [
      "mtcars >> mutate(res = _.hp.mean(na.rm = True) + 2) >> head()\n"
     ]
    }
   ],
   "source": [
    "%%wrestlr -p -t my_transformer\n",
    "mtcars %>% mutate(res = mean(hp, na.rm = TRUE) + 2) %>% head()"
   ]
  },
  {
   "cell_type": "markdown",
   "metadata": {},
   "source": [
    "One exception is for ggplot calls, which wrestlr attempts to reformat to the conventions used by `plotnine` (a ggplot port to python). It essentially works with two changes:\n",
    "\n",
    "* `theme(axis.x.text=...)` uses underscores instead. Eg. `theme(axis_x_text = ...)`.\n",
    "* `aes(factor(x), y)` must quote variables. Eg `aes(\"factor(x)\", \"y\")`."
   ]
  }
 ],
 "metadata": {
  "kernelspec": {
   "display_name": "venv-hoof",
   "language": "python",
   "name": "venv-hoof"
  },
  "language_info": {
   "codemirror_mode": {
    "name": "ipython",
    "version": 3
   },
   "file_extension": ".py",
   "mimetype": "text/x-python",
   "name": "python",
   "nbconvert_exporter": "python",
   "pygments_lexer": "ipython3",
   "version": "3.6.8"
  },
  "toc-autonumbering": false,
  "toc-showtags": false
 },
 "nbformat": 4,
 "nbformat_minor": 4
}
