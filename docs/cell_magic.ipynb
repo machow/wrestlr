{
 "cells": [
  {
   "cell_type": "code",
   "execution_count": 1,
   "metadata": {},
   "outputs": [],
   "source": [
    "import wrestlr\n",
    "\n",
    "%load_ext wrestlr"
   ]
  },
  {
   "cell_type": "markdown",
   "metadata": {},
   "source": [
    "## Printing transformations"
   ]
  },
  {
   "cell_type": "code",
   "execution_count": 2,
   "metadata": {},
   "outputs": [
    {
     "name": "stdout",
     "output_type": "stream",
     "text": [
      "mtcars >> filter(_.hp == 50) >> mutate(res = _.hp + 1)\n",
      "\n",
      "mtcars >> mutate(res = mean(_.hp / _.mpg))\n",
      "\n",
      "mtcars >> mutate(res = mean(_.hp,na.rm = True))\n"
     ]
    }
   ],
   "source": [
    "%%wrestlr -p\n",
    "mtcars %>% filter(hp == 50) %>% mutate(res = hp + 1)\n",
    "\n",
    "mtcars %>% mutate(res = mean(hp / mpg))\n",
    "\n",
    "mtcars %>% mutate(res = mean(hp, na.rm = TRUE))\n"
   ]
  },
  {
   "cell_type": "markdown",
   "metadata": {},
   "source": [
    "## Replacing code"
   ]
  },
  {
   "cell_type": "markdown",
   "metadata": {},
   "source": [
    "Removing `-p` from the code below will replace the contents of the cell with python code."
   ]
  },
  {
   "cell_type": "code",
   "execution_count": 5,
   "metadata": {},
   "outputs": [
    {
     "name": "stdout",
     "output_type": "stream",
     "text": [
      "no match\n",
      "a >> b()\n"
     ]
    }
   ],
   "source": [
    "%%wrestlr -p\n",
    "\n",
    "a %>% b()"
   ]
  },
  {
   "cell_type": "code",
   "execution_count": 6,
   "metadata": {},
   "outputs": [
    {
     "name": "stdout",
     "output_type": "stream",
     "text": [
      "no match\n",
      "mtcars >> filter()\n"
     ]
    }
   ],
   "source": [
    "%%wrestlr -p\n",
    "mtcars %>% filter()"
   ]
  }
 ],
 "metadata": {
  "kernelspec": {
   "display_name": "venv-hoof",
   "language": "python",
   "name": "venv-hoof"
  },
  "language_info": {
   "codemirror_mode": {
    "name": "ipython",
    "version": 3
   },
   "file_extension": ".py",
   "mimetype": "text/x-python",
   "name": "python",
   "nbconvert_exporter": "python",
   "pygments_lexer": "ipython3",
   "version": "3.6.8"
  }
 },
 "nbformat": 4,
 "nbformat_minor": 4
}
