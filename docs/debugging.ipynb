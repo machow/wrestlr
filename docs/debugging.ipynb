{
 "cells": [
  {
   "cell_type": "code",
   "execution_count": 1,
   "metadata": {},
   "outputs": [],
   "source": [
    "from wrestlr import rlang_convert\n",
    "from hoof import to_symbol\n",
    "from siuba import siu"
   ]
  },
  {
   "cell_type": "markdown",
   "metadata": {},
   "source": [
    "## Siu Call Tree"
   ]
  },
  {
   "cell_type": "code",
   "execution_count": 2,
   "metadata": {},
   "outputs": [
    {
     "data": {
      "text/plain": [
       "█─'__call__'\n",
       "├─█─'__siu_name__'\n",
       "│ └─'mutate'\n",
       "└─█─'__siu_keyword__'\n",
       "  ├─'avg'\n",
       "  └─█─'__call__'\n",
       "    ├─█─'__siu_name__'\n",
       "    │ └─'mean'\n",
       "    └─█─.\n",
       "      ├─_\n",
       "      └─'hp'"
      ]
     },
     "execution_count": 2,
     "metadata": {},
     "output_type": "execute_result"
    }
   ],
   "source": [
    "# list of names to convert to methods\n",
    "siu.Symbolic(rlang_convert(\"mutate(avg = mean(hp))\", mode = \"siuba\"))"
   ]
  },
  {
   "cell_type": "markdown",
   "metadata": {},
   "source": [
    "## Converting R AST to Pipe"
   ]
  },
  {
   "cell_type": "code",
   "execution_count": 3,
   "metadata": {},
   "outputs": [
    {
     "data": {
      "text/plain": [
       "█─'BinaryOpUser'\n",
       "├─op = '%>%'\n",
       "└─expr = █─'List'\n",
       "         ├─█─'BinaryOpUser'\n",
       "         │ ├─op = '%>%'\n",
       "         │ └─expr = █─'List'\n",
       "         │          ├─█─'BinaryOpUser'\n",
       "         │          │ ├─op = '%>%'\n",
       "         │          │ └─expr = █─'List'\n",
       "         │          │          ├─█─'Name'\n",
       "         │          │          │ └─val = 'a'\n",
       "         │          │          └─█─'CallOp'\n",
       "         │          │            ├─expr = █─'Name'\n",
       "         │          │            │        └─val = 'b'\n",
       "         │          │            └─sublist = █─'List'\n",
       "         │          └─█─'CallOp'\n",
       "         │            ├─expr = █─'Name'\n",
       "         │            │        └─val = 'c'\n",
       "         │            └─sublist = █─'List'\n",
       "         └─█─'CallOp'\n",
       "           ├─expr = █─'Name'\n",
       "           │        └─val = 'd'\n",
       "           └─sublist = █─'List'"
      ]
     },
     "execution_count": 3,
     "metadata": {},
     "output_type": "execute_result"
    }
   ],
   "source": [
    "from wrestlr.transformers import Pipeify\n",
    "to_symbol(\n",
    "    Pipeify().visit(\n",
    "        rlang_convert(\"a %>% b() %>% c() %>% d()\", \"expr\", mode = \"ast\")\n",
    "    )\n",
    ")"
   ]
  },
  {
   "cell_type": "markdown",
   "metadata": {},
   "source": [
    "## Lists and deep nesting in R AST"
   ]
  },
  {
   "cell_type": "code",
   "execution_count": 4,
   "metadata": {},
   "outputs": [
    {
     "data": {
      "text/plain": [
       "█─'Expression'\n",
       "└─expr = █─'List'\n",
       "         └─█─'BinaryOpUser'\n",
       "           ├─op = '%>%'\n",
       "           └─expr = █─'List'\n",
       "                    ├─█─'Name'\n",
       "                    │ └─val = 'mtcars'\n",
       "                    └─█─'CallOp'\n",
       "                      ├─expr = █─'Name'\n",
       "                      │        └─val = 'mutate'\n",
       "                      └─sublist = █─'Kwarg'\n",
       "                                  ├─name = 'res'\n",
       "                                  └─val = █─'CallOp'\n",
       "                                          ├─expr = █─'Name'\n",
       "                                          │        └─val = 'mean'\n",
       "                                          └─sublist = █─'List'\n",
       "                                                      ├─█─'Name'\n",
       "                                                      │ └─val = 'hp'\n",
       "                                                      └─█─'Kwarg'\n",
       "                                                        ├─name = 'na.rm'\n",
       "                                                        └─val = █─'Bool'\n",
       "                                                                └─val = 'TRUE'"
      ]
     },
     "execution_count": 4,
     "metadata": {},
     "output_type": "execute_result"
    }
   ],
   "source": [
    "from hoof import to_symbol\n",
    "from wrestlr.transformers import Pipeify\n",
    "to_symbol(\n",
    "        rlang_convert(\"mtcars %>% mutate(res = mean(hp, na.rm = TRUE))\", mode = \"ast\")\n",
    ")"
   ]
  }
 ],
 "metadata": {
  "kernelspec": {
   "display_name": "venv-hoof",
   "language": "python",
   "name": "venv-hoof"
  },
  "language_info": {
   "codemirror_mode": {
    "name": "ipython",
    "version": 3
   },
   "file_extension": ".py",
   "mimetype": "text/x-python",
   "name": "python",
   "nbconvert_exporter": "python",
   "pygments_lexer": "ipython3",
   "version": "3.6.8"
  }
 },
 "nbformat": 4,
 "nbformat_minor": 4
}
